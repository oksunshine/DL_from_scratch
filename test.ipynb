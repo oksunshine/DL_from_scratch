{
 "cells": [
  {
   "cell_type": "code",
   "execution_count": 2,
   "metadata": {
    "ExecuteTime": {
     "end_time": "2019-01-31T04:33:13.185355Z",
     "start_time": "2019-01-31T04:33:12.983951Z"
    }
   },
   "outputs": [
    {
     "name": "stdout",
     "output_type": "stream",
     "text": [
      "loss : 1.2790783429055779\n",
      "loss : 0.32830668998030327\n",
      "loss : 0.2480261549849914\n",
      "loss : 0.24091127561744732\n",
      "loss : 0.23998539825366058\n",
      "loss : 0.2395898714955844\n",
      "loss : 0.23924349429040684\n",
      "loss : 0.2389049500336199\n",
      "loss : 0.238570606663135\n",
      "loss : 0.23824011306105694\n",
      "loss : 0.23791341643711417\n",
      "loss : 0.23759049462762052\n",
      "loss : 0.23727132948006863\n",
      "loss : 0.23695590344262316\n",
      "loss : 0.2366441989226075\n",
      "loss : 0.23633619812717976\n",
      "loss : 0.2360318830228606\n",
      "loss : 0.23573123532976617\n",
      "loss : 0.23543423652648834\n",
      "loss : 0.2351408678582093\n",
      "loss : 0.23485111034571848\n",
      "loss : 0.23456494479459322\n",
      "loss : 0.23428235180431206\n",
      "loss : 0.2340033117772276\n",
      "loss : 0.2337278049273754\n",
      "loss : 0.23345581128911444\n",
      "loss : 0.23318731072559595\n",
      "loss : 0.23292228293706368\n",
      "loss : 0.23266070746898307\n",
      "loss : 0.2324025637200049\n",
      "loss : 0.23214783094976113\n",
      "loss : 0.23189648828649656\n",
      "loss : 0.23164851473453713\n",
      "loss : 0.23140388918159663\n",
      "loss : 0.23116259040592296\n",
      "loss : 0.2309245970832867\n",
      "loss : 0.23068988779381283\n",
      "loss : 0.2304584410286571\n",
      "loss : 0.23023023519653044\n",
      "loss : 0.2300052486300713\n",
      "loss : 0.22978345959206897\n",
      "loss : 0.22956484628154006\n",
      "loss : 0.22934938683965822\n",
      "loss : 0.22913705935554174\n",
      "loss : 0.22892784187189885\n",
      "loss : 0.22872171239053338\n",
      "loss : 0.22851864887771345\n",
      "loss : 0.22831862926940388\n",
      "loss : 0.22812163147636544\n",
      "loss : 0.22792763338912278\n"
     ]
    },
    {
     "data": {
      "image/png": "[encoded data removed]",
      "text/plain": [
       "<Figure size 432x288 with 1 Axes>"
      ]
     },
     "metadata": {
      "needs_background": "light"
     },
     "output_type": "display_data"
    }
   ],
   "source": [
    "run main.py"
   ]
  },
  {
   "cell_type": "code",
   "execution_count": null,
   "metadata": {},
   "outputs": [],
   "source": []
  },
  {
   "cell_type": "code",
   "execution_count": null,
   "metadata": {},
   "outputs": [],
   "source": []
  }
 ],
 "metadata": {
  "kernelspec": {
   "display_name": "Python 3",
   "language": "python",
   "name": "python3"
  },
  "language_info": {
   "codemirror_mode": {
    "name": "ipython",
    "version": 3
   },
   "file_extension": ".py",
   "mimetype": "text/x-python",
   "name": "python",
   "nbconvert_exporter": "python",
   "pygments_lexer": "ipython3",
   "version": "3.6.5"
  },
  "varInspector": {
   "cols": {
    "lenName": 16,
    "lenType": 16,
    "lenVar": 40
   },
   "kernels_config": {
    "python": {
     "delete_cmd_postfix": "",
     "delete_cmd_prefix": "del ",
     "library": "var_list.py",
     "varRefreshCmd": "print(var_dic_list())"
    },
    "r": {
     "delete_cmd_postfix": ") ",
     "delete_cmd_prefix": "rm(",
     "library": "var_list.r",
     "varRefreshCmd": "cat(var_dic_list()) "
    }
   },
   "types_to_exclude": [
    "module",
    "function",
    "builtin_function_or_method",
    "instance",
    "_Feature"
   ],
   "window_display": false
  }
 },
 "nbformat": 4,
 "nbformat_minor": 2
}
